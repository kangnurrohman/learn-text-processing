{
  "cells": [
    {
      "cell_type": "markdown",
      "metadata": {
        "id": "view-in-github",
        "colab_type": "text"
      },
      "source": [
        "<a href=\"https://colab.research.google.com/github/kangnurrohman/unstructured-data/blob/main/src/text%20data/Part%204%20-%20Document%20Similarity%20%26%20Keyword%20Extraction.ipynb\" target=\"_parent\"><img src=\"https://colab.research.google.com/assets/colab-badge.svg\" alt=\"Open In Colab\"/></a>"
      ]
    },
    {
      "cell_type": "code",
      "source": [
        "from google.colab import drive\n",
        "drive.mount('/content/drive')"
      ],
      "metadata": {
        "id": "oxT80XxD7QAJ",
        "outputId": "6ce3d736-5243-45bf-a557-057b296dd3e6",
        "colab": {
          "base_uri": "https://localhost:8080/"
        }
      },
      "id": "oxT80XxD7QAJ",
      "execution_count": 1,
      "outputs": [
        {
          "output_type": "stream",
          "name": "stdout",
          "text": [
            "Mounted at /content/drive\n"
          ]
        }
      ]
    },
    {
      "cell_type": "code",
      "source": [
        "import zipfile\n",
        "zip_ref = zipfile.ZipFile(\"/content/drive/MyDrive/Colab Notebooks/data/data 5.zip\", 'r')\n",
        "zip_ref.extractall(\"data\")\n",
        "zip_ref.close()"
      ],
      "metadata": {
        "id": "ENwSLneV7aIk"
      },
      "id": "ENwSLneV7aIk",
      "execution_count": 2,
      "outputs": []
    },
    {
      "cell_type": "code",
      "source": [
        "import pandas as pd\n",
        "\n",
        "import nltk\n",
        "from nltk.tokenize import word_tokenize\n",
        "from nltk.corpus import stopwords\n",
        "from string import punctuation\n",
        "nltk.download('stopwords')\n",
        "nltk.download('punkt')\n",
        "\n",
        "sw_indo = stopwords.words(\"indonesian\") + list(punctuation)"
      ],
      "metadata": {
        "id": "UEG2CX-_7br-",
        "outputId": "2fd73253-a8c3-4b68-b629-a3c57d682cef",
        "colab": {
          "base_uri": "https://localhost:8080/"
        }
      },
      "id": "UEG2CX-_7br-",
      "execution_count": 3,
      "outputs": [
        {
          "output_type": "stream",
          "name": "stderr",
          "text": [
            "[nltk_data] Downloading package stopwords to /root/nltk_data...\n",
            "[nltk_data]   Unzipping corpora/stopwords.zip.\n",
            "[nltk_data] Downloading package punkt to /root/nltk_data...\n",
            "[nltk_data]   Unzipping tokenizers/punkt.zip.\n"
          ]
        }
      ]
    },
    {
      "cell_type": "markdown",
      "source": [
        "## Import Data"
      ],
      "metadata": {
        "id": "f4Hnwmri8Axz"
      },
      "id": "f4Hnwmri8Axz"
    },
    {
      "cell_type": "code",
      "source": [
        "df = pd.read_csv(\"data/kompas.csv\")\n",
        "df.head()"
      ],
      "metadata": {
        "id": "WeKKMJ488CBJ",
        "outputId": "29b0c2cb-2c02-407b-d340-9eeeae0ffb45",
        "colab": {
          "base_uri": "https://localhost:8080/",
          "height": 206
        }
      },
      "id": "WeKKMJ488CBJ",
      "execution_count": 4,
      "outputs": [
        {
          "output_type": "execute_result",
          "data": {
            "text/plain": [
              "                                                teks\n",
              "0  Ginandjar Tetap Ditahan. Jaksa Agung Dilaporka...\n",
              "1  Jakarta Dikangkangi Para Preman\\nKALAU tak pun...\n",
              "2  Penyimpangan di Setpres Seolah Terjadi Sekaran...\n",
              "3  Dibayarkan, Rapel Kenaikan Gaji Pegawai Pos\\nK...\n",
              "4  Stop Kekerasan, Elite agar Duduk Bersama\\nSeju..."
            ],
            "text/html": [
              "\n",
              "  <div id=\"df-4d07661d-7cd9-4f46-8f87-97f471879624\">\n",
              "    <div class=\"colab-df-container\">\n",
              "      <div>\n",
              "<style scoped>\n",
              "    .dataframe tbody tr th:only-of-type {\n",
              "        vertical-align: middle;\n",
              "    }\n",
              "\n",
              "    .dataframe tbody tr th {\n",
              "        vertical-align: top;\n",
              "    }\n",
              "\n",
              "    .dataframe thead th {\n",
              "        text-align: right;\n",
              "    }\n",
              "</style>\n",
              "<table border=\"1\" class=\"dataframe\">\n",
              "  <thead>\n",
              "    <tr style=\"text-align: right;\">\n",
              "      <th></th>\n",
              "      <th>teks</th>\n",
              "    </tr>\n",
              "  </thead>\n",
              "  <tbody>\n",
              "    <tr>\n",
              "      <th>0</th>\n",
              "      <td>Ginandjar Tetap Ditahan. Jaksa Agung Dilaporka...</td>\n",
              "    </tr>\n",
              "    <tr>\n",
              "      <th>1</th>\n",
              "      <td>Jakarta Dikangkangi Para Preman\\nKALAU tak pun...</td>\n",
              "    </tr>\n",
              "    <tr>\n",
              "      <th>2</th>\n",
              "      <td>Penyimpangan di Setpres Seolah Terjadi Sekaran...</td>\n",
              "    </tr>\n",
              "    <tr>\n",
              "      <th>3</th>\n",
              "      <td>Dibayarkan, Rapel Kenaikan Gaji Pegawai Pos\\nK...</td>\n",
              "    </tr>\n",
              "    <tr>\n",
              "      <th>4</th>\n",
              "      <td>Stop Kekerasan, Elite agar Duduk Bersama\\nSeju...</td>\n",
              "    </tr>\n",
              "  </tbody>\n",
              "</table>\n",
              "</div>\n",
              "      <button class=\"colab-df-convert\" onclick=\"convertToInteractive('df-4d07661d-7cd9-4f46-8f87-97f471879624')\"\n",
              "              title=\"Convert this dataframe to an interactive table.\"\n",
              "              style=\"display:none;\">\n",
              "        \n",
              "  <svg xmlns=\"http://www.w3.org/2000/svg\" height=\"24px\"viewBox=\"0 0 24 24\"\n",
              "       width=\"24px\">\n",
              "    <path d=\"M0 0h24v24H0V0z\" fill=\"none\"/>\n",
              "    <path d=\"M18.56 5.44l.94 2.06.94-2.06 2.06-.94-2.06-.94-.94-2.06-.94 2.06-2.06.94zm-11 1L8.5 8.5l.94-2.06 2.06-.94-2.06-.94L8.5 2.5l-.94 2.06-2.06.94zm10 10l.94 2.06.94-2.06 2.06-.94-2.06-.94-.94-2.06-.94 2.06-2.06.94z\"/><path d=\"M17.41 7.96l-1.37-1.37c-.4-.4-.92-.59-1.43-.59-.52 0-1.04.2-1.43.59L10.3 9.45l-7.72 7.72c-.78.78-.78 2.05 0 2.83L4 21.41c.39.39.9.59 1.41.59.51 0 1.02-.2 1.41-.59l7.78-7.78 2.81-2.81c.8-.78.8-2.07 0-2.86zM5.41 20L4 18.59l7.72-7.72 1.47 1.35L5.41 20z\"/>\n",
              "  </svg>\n",
              "      </button>\n",
              "      \n",
              "  <style>\n",
              "    .colab-df-container {\n",
              "      display:flex;\n",
              "      flex-wrap:wrap;\n",
              "      gap: 12px;\n",
              "    }\n",
              "\n",
              "    .colab-df-convert {\n",
              "      background-color: #E8F0FE;\n",
              "      border: none;\n",
              "      border-radius: 50%;\n",
              "      cursor: pointer;\n",
              "      display: none;\n",
              "      fill: #1967D2;\n",
              "      height: 32px;\n",
              "      padding: 0 0 0 0;\n",
              "      width: 32px;\n",
              "    }\n",
              "\n",
              "    .colab-df-convert:hover {\n",
              "      background-color: #E2EBFA;\n",
              "      box-shadow: 0px 1px 2px rgba(60, 64, 67, 0.3), 0px 1px 3px 1px rgba(60, 64, 67, 0.15);\n",
              "      fill: #174EA6;\n",
              "    }\n",
              "\n",
              "    [theme=dark] .colab-df-convert {\n",
              "      background-color: #3B4455;\n",
              "      fill: #D2E3FC;\n",
              "    }\n",
              "\n",
              "    [theme=dark] .colab-df-convert:hover {\n",
              "      background-color: #434B5C;\n",
              "      box-shadow: 0px 1px 3px 1px rgba(0, 0, 0, 0.15);\n",
              "      filter: drop-shadow(0px 1px 2px rgba(0, 0, 0, 0.3));\n",
              "      fill: #FFFFFF;\n",
              "    }\n",
              "  </style>\n",
              "\n",
              "      <script>\n",
              "        const buttonEl =\n",
              "          document.querySelector('#df-4d07661d-7cd9-4f46-8f87-97f471879624 button.colab-df-convert');\n",
              "        buttonEl.style.display =\n",
              "          google.colab.kernel.accessAllowed ? 'block' : 'none';\n",
              "\n",
              "        async function convertToInteractive(key) {\n",
              "          const element = document.querySelector('#df-4d07661d-7cd9-4f46-8f87-97f471879624');\n",
              "          const dataTable =\n",
              "            await google.colab.kernel.invokeFunction('convertToInteractive',\n",
              "                                                     [key], {});\n",
              "          if (!dataTable) return;\n",
              "\n",
              "          const docLinkHtml = 'Like what you see? Visit the ' +\n",
              "            '<a target=\"_blank\" href=https://colab.research.google.com/notebooks/data_table.ipynb>data table notebook</a>'\n",
              "            + ' to learn more about interactive tables.';\n",
              "          element.innerHTML = '';\n",
              "          dataTable['output_type'] = 'display_data';\n",
              "          await google.colab.output.renderOutput(dataTable, element);\n",
              "          const docLink = document.createElement('div');\n",
              "          docLink.innerHTML = docLinkHtml;\n",
              "          element.appendChild(docLink);\n",
              "        }\n",
              "      </script>\n",
              "    </div>\n",
              "  </div>\n",
              "  "
            ]
          },
          "metadata": {},
          "execution_count": 4
        }
      ]
    },
    {
      "cell_type": "markdown",
      "source": [
        "## Extract TFIDF"
      ],
      "metadata": {
        "id": "ocALj2ax895J"
      },
      "id": "ocALj2ax895J"
    },
    {
      "cell_type": "code",
      "source": [
        "from sklearn.feature_extraction.text import TfidfVectorizer"
      ],
      "metadata": {
        "id": "CjtA12pJ8N8C"
      },
      "id": "CjtA12pJ8N8C",
      "execution_count": 5,
      "outputs": []
    },
    {
      "cell_type": "code",
      "source": [
        "tfidf = TfidfVectorizer(ngram_range=(1, 2), tokenizer=word_tokenize, stop_words=sw_indo)\n",
        "tfidf_matrix = tfidf.fit_transform(df.teks)"
      ],
      "metadata": {
        "id": "OQlQ3Ibg9JS3",
        "outputId": "d8d69390-ae8a-4362-ee74-9d3cfb4e58f4",
        "colab": {
          "base_uri": "https://localhost:8080/"
        }
      },
      "id": "OQlQ3Ibg9JS3",
      "execution_count": 6,
      "outputs": [
        {
          "output_type": "stream",
          "name": "stderr",
          "text": [
            "/usr/local/lib/python3.7/dist-packages/sklearn/feature_extraction/text.py:401: UserWarning: Your stop_words may be inconsistent with your preprocessing. Tokenizing the stop words generated tokens ['``'] not in stop_words.\n",
            "  % sorted(inconsistent)\n"
          ]
        }
      ]
    },
    {
      "cell_type": "markdown",
      "source": [
        "## TFIDF Similarity -> Document Similarity"
      ],
      "metadata": {
        "id": "2HW7Kaex9oZQ"
      },
      "id": "2HW7Kaex9oZQ"
    },
    {
      "cell_type": "code",
      "source": [
        "from sklearn.metrics.pairwise import cosine_similarity"
      ],
      "metadata": {
        "id": "kNhvOEWe9sdH"
      },
      "id": "kNhvOEWe9sdH",
      "execution_count": 7,
      "outputs": []
    },
    {
      "cell_type": "code",
      "source": [
        "sim = cosine_similarity(tfidf_matrix[0], tfidf_matrix)\n",
        "sim"
      ],
      "metadata": {
        "id": "0eaAvDEM-Wd7",
        "outputId": "b14d4ea9-70f9-44be-8807-c178055f6b4c",
        "colab": {
          "base_uri": "https://localhost:8080/"
        }
      },
      "id": "0eaAvDEM-Wd7",
      "execution_count": 8,
      "outputs": [
        {
          "output_type": "execute_result",
          "data": {
            "text/plain": [
              "array([[1.        , 0.00858328, 0.01060043, ..., 0.00856287, 0.00677808,\n",
              "        0.01513341]])"
            ]
          },
          "metadata": {},
          "execution_count": 8
        }
      ]
    },
    {
      "cell_type": "code",
      "source": [
        "sim.argsort()"
      ],
      "metadata": {
        "id": "sbAyB-52_RUx",
        "outputId": "6c2b8f72-a3a4-4604-bea8-eb074f8a6458",
        "colab": {
          "base_uri": "https://localhost:8080/"
        }
      },
      "id": "sbAyB-52_RUx",
      "execution_count": 9,
      "outputs": [
        {
          "output_type": "execute_result",
          "data": {
            "text/plain": [
              "array([[ 932, 1131, 1593, ...,  215,  144,    0]])"
            ]
          },
          "metadata": {},
          "execution_count": 9
        }
      ]
    },
    {
      "cell_type": "code",
      "source": [
        "df.teks[0][:200]"
      ],
      "metadata": {
        "id": "Egl1G0Kh_cZW",
        "outputId": "c9647c6d-44b7-46ca-b26a-a26d6161ca3b",
        "colab": {
          "base_uri": "https://localhost:8080/",
          "height": 52
        }
      },
      "id": "Egl1G0Kh_cZW",
      "execution_count": 10,
      "outputs": [
        {
          "output_type": "execute_result",
          "data": {
            "text/plain": [
              "'Ginandjar Tetap Ditahan. Jaksa Agung Dilaporkan ke Polri\\nKejaksaan Agung memutuskan untuk tetap menahan tersangka kasus korupsi, Ginandjar Kartasasmita, sampai batas waktu yang ditentukan KUHAP. Sedan'"
            ],
            "application/vnd.google.colaboratory.intrinsic+json": {
              "type": "string"
            }
          },
          "metadata": {},
          "execution_count": 10
        }
      ]
    },
    {
      "cell_type": "code",
      "source": [
        "df.teks[144][:200]"
      ],
      "metadata": {
        "id": "WsIFJAI3_p2g",
        "outputId": "4c524c44-3227-4b53-f913-d66be56efef7",
        "colab": {
          "base_uri": "https://localhost:8080/",
          "height": 52
        }
      },
      "id": "WsIFJAI3_p2g",
      "execution_count": 11,
      "outputs": [
        {
          "output_type": "execute_result",
          "data": {
            "text/plain": [
              "'Kejaksaan Agung Terbitkan Surat Penahanan Baru\\nKejaksaan Agung (Kejagung) akhirnya menerbitkan surat perintah penahanan yang baru terhadap mantan Menteri Pertambangan dan Energi Ginandjar Kartasasmita'"
            ],
            "application/vnd.google.colaboratory.intrinsic+json": {
              "type": "string"
            }
          },
          "metadata": {},
          "execution_count": 11
        }
      ]
    },
    {
      "cell_type": "code",
      "source": [
        "df.teks[215][:200]"
      ],
      "metadata": {
        "id": "VcOEc-B__00H",
        "outputId": "131e1fac-5140-4603-865d-3de4b43e2d38",
        "colab": {
          "base_uri": "https://localhost:8080/",
          "height": 52
        }
      },
      "id": "VcOEc-B__00H",
      "execution_count": 12,
      "outputs": [
        {
          "output_type": "execute_result",
          "data": {
            "text/plain": [
              "'Kuasa Hukum Ginandjar Bertahan di Rutan\\nSejumlah kuasa hukum Ginandjar Kartasasmita hingga hari Selasa (17/4) pukul 22.00 masih bertahan di ruang tahanan (rutan) Kejaksaan Agung (Kejagung). Selasa pag'"
            ],
            "application/vnd.google.colaboratory.intrinsic+json": {
              "type": "string"
            }
          },
          "metadata": {},
          "execution_count": 12
        }
      ]
    },
    {
      "cell_type": "code",
      "source": [
        "df.teks[932][:200]"
      ],
      "metadata": {
        "id": "xwlN0sAM_5gb",
        "outputId": "a3b9d869-6124-4f0b-dddf-07d84f2daf27",
        "colab": {
          "base_uri": "https://localhost:8080/",
          "height": 52
        }
      },
      "id": "xwlN0sAM_5gb",
      "execution_count": 13,
      "outputs": [
        {
          "output_type": "execute_result",
          "data": {
            "text/plain": [
              "'Pusat Pengolahan Ikan Asin Lhokseumawe Terbakar\\nPusat pengolahan ikan asin di kawasan Pasar Ikan Lhokseumawe (Aceh) terbakar bersama berton-ton stok ikan asin Sabtu (13/1) siang. Sedikitnya 25 gudang '"
            ],
            "application/vnd.google.colaboratory.intrinsic+json": {
              "type": "string"
            }
          },
          "metadata": {},
          "execution_count": 13
        }
      ]
    },
    {
      "cell_type": "markdown",
      "source": [
        "## Keyword Extraction"
      ],
      "metadata": {
        "id": "CGcwkPPrAQ6G"
      },
      "id": "CGcwkPPrAQ6G"
    },
    {
      "cell_type": "code",
      "source": [
        "vocab = tfidf.get_feature_names_out()\n",
        "vocab[-10:]"
      ],
      "metadata": {
        "id": "y7Ytdzo_AS9A",
        "outputId": "8cbde071-de78-4637-a516-a84cd67c481d",
        "colab": {
          "base_uri": "https://localhost:8080/"
        }
      },
      "id": "y7Ytdzo_AS9A",
      "execution_count": 14,
      "outputs": [
        {
          "output_type": "execute_result",
          "data": {
            "text/plain": [
              "array(['zuniga memilih', 'zunnatul', 'zunnatul mafruhah', 'zurich',\n",
              "       'zurich northholt', 'zw', 'zw suparman', 'zw tim', 'zx',\n",
              "       'zx diserbu'], dtype=object)"
            ]
          },
          "metadata": {},
          "execution_count": 14
        }
      ]
    },
    {
      "cell_type": "code",
      "source": [
        "tfidf_matrix[0].toarray()"
      ],
      "metadata": {
        "id": "CgXYOE6yA01b",
        "outputId": "4a4a3e1d-2bee-4981-8fd5-e3fd7377e5c7",
        "colab": {
          "base_uri": "https://localhost:8080/"
        }
      },
      "id": "CgXYOE6yA01b",
      "execution_count": 15,
      "outputs": [
        {
          "output_type": "execute_result",
          "data": {
            "text/plain": [
              "array([[0.02115058, 0.        , 0.        , ..., 0.        , 0.        ,\n",
              "        0.        ]])"
            ]
          },
          "metadata": {},
          "execution_count": 15
        }
      ]
    },
    {
      "cell_type": "code",
      "source": [
        "sorted_tfidf = tfidf_matrix[0].toarray()[0].argsort()\n",
        "sorted_tfidf"
      ],
      "metadata": {
        "id": "39RlbRbiBZb7",
        "outputId": "0150e027-cc8a-499c-dfac-fcb885193b44",
        "colab": {
          "base_uri": "https://localhost:8080/"
        }
      },
      "id": "39RlbRbiBZb7",
      "execution_count": 16,
      "outputs": [
        {
          "output_type": "execute_result",
          "data": {
            "text/plain": [
              "array([274212, 365469, 365468, ..., 386379, 436652, 169219])"
            ]
          },
          "metadata": {},
          "execution_count": 16
        }
      ]
    },
    {
      "cell_type": "code",
      "source": [
        "vocab[169219]"
      ],
      "metadata": {
        "id": "eLNPFHM8Bd6P",
        "outputId": "4c7cc06c-a7c5-4fb3-c25f-23b2b47596e5",
        "colab": {
          "base_uri": "https://localhost:8080/",
          "height": 35
        }
      },
      "id": "eLNPFHM8Bd6P",
      "execution_count": 17,
      "outputs": [
        {
          "output_type": "execute_result",
          "data": {
            "text/plain": [
              "'ginandjar'"
            ],
            "application/vnd.google.colaboratory.intrinsic+json": {
              "type": "string"
            }
          },
          "metadata": {},
          "execution_count": 17
        }
      ]
    },
    {
      "cell_type": "code",
      "source": [
        "vocab[436652]"
      ],
      "metadata": {
        "id": "Q0zFKfaYBvml",
        "outputId": "2018057b-9675-4cc7-feda-17f644480c89",
        "colab": {
          "base_uri": "https://localhost:8080/",
          "height": 35
        }
      },
      "id": "Q0zFKfaYBvml",
      "execution_count": 18,
      "outputs": [
        {
          "output_type": "execute_result",
          "data": {
            "text/plain": [
              "'putusan'"
            ],
            "application/vnd.google.colaboratory.intrinsic+json": {
              "type": "string"
            }
          },
          "metadata": {},
          "execution_count": 18
        }
      ]
    },
    {
      "cell_type": "code",
      "source": [
        "[vocab[idx] for idx in reversed(sorted_tfidf[-10:])]"
      ],
      "metadata": {
        "id": "fBEE3dmfCOgB",
        "outputId": "8cb9745c-c6dc-455a-b469-b8716104a23b",
        "colab": {
          "base_uri": "https://localhost:8080/"
        }
      },
      "id": "fBEE3dmfCOgB",
      "execution_count": 19,
      "outputs": [
        {
          "output_type": "execute_result",
          "data": {
            "text/plain": [
              "['ginandjar',\n",
              " 'putusan',\n",
              " 'penahanan',\n",
              " 'hukum ginandjar',\n",
              " 'kuasa hukum',\n",
              " 'rusman',\n",
              " 'kejaksaan',\n",
              " 'hakim rusman',\n",
              " 'kuasa',\n",
              " '9 april']"
            ]
          },
          "metadata": {},
          "execution_count": 19
        }
      ]
    },
    {
      "cell_type": "code",
      "source": [
        "def extract_keywords_tfidf(doc, tfidf, topk=10):\n",
        "  matrix = tfidf.transform([doc])\n",
        "  vocab = tfidf.get_feature_names_out()\n",
        "\n",
        "  sorted_tfidf = matrix[0].toarray()[0].argsort()\n",
        "  return [vocab[idx] for idx in reversed(sorted_tfidf[-topk:])]"
      ],
      "metadata": {
        "id": "cBcC07vACi7v"
      },
      "id": "cBcC07vACi7v",
      "execution_count": 20,
      "outputs": []
    },
    {
      "cell_type": "code",
      "source": [
        "teks = \"\"\"Jakarta - Rektor Universitas Sultan Agung (Unissula) Semarang Prof Dr Gunarto, SH. MHum. mendapatkan penghargaan pada PWI Jateng Award 2022 yang dilaksanakan di Gradika Bakti Praja Kota Semarang, Jumat (25/3). Penyerahan dilakukan oleh Ketua PWI Jawa Tengah Amir Machmud NS.\n",
        "\n",
        "Gunarto mendapatkan penghargaan atas gagasan kreatif pengembangan budaya akademik 'kampus birrul walidain'. Itu merupakan sebuah gagasan tentang pendidikan karakter unggul untuk mendorong para mahasiswa pada khususnya serta dosen dan karyawan pada umumnya, untuk senantiasa meningkatkan kebaktian pada ibu dan ayah masing masing.\n",
        "\n",
        "Gunarto menekankan mahasiswa bukan hanya dididik untuk menjadi manusia unggul dan kompeten dalam pekerjaan, namun juga memiliki kesadaran dan tanggung jawab moral untuk berbakti kepada kedua orang tua. Ia memandang nilai-nilai seperti itu semakin terkikis belakangan ini seiring dengan perkembangan dunia yang sangat drastic. Oleh sebab itu universitas perlu mengingatkan pentingnya etika terhadap orang tua tersebut.\n",
        "\n",
        "Penghargaan PWI Jateng Award 2022 menjadi salah satu rangkaian dari perayaan Hari Pers Nasional (HPN). Ajang penganugerahan ini merupakan apresiasi atas prestasi, kontribusi, dan rekam jejak para tokoh dan korporasi dalam pembangunan di Jawa Tengah melalui profesi dan peran tanggung jawab sosial.\n",
        "\n",
        "Selain Rektor Unissula, terdapat 15 tokoh dan 3 korporasi yang mendapatkan penghargaan dalam acara PWI Jateng award 2022, antara lain Gubernur Jateng Ganjar Pranowo, politisi senior Partai Golkar asal Pati Firman Soebagyo, dan politisi PDIP Dewi Aryani, Bupati Brebes Idza Priyanti Mukti Bupati Pemalang Agung Wibowo, Walikota Tegal Dedy Yon Supriyono, Wakil Wali Kota Semarang Hevearita G. Rahayu, dan Bupati Magelang Zainal Arifin.\n",
        "\n",
        "Penghargaan juga diberikan pada Rektor USM Dr Ir Supari Priambodo, MT, Rektor Universitas Pancasakti Tegal Dr Taufiqulloh, MHum, Ketua DPRD Kabupaten Tegal Moch Faiq, Dandim 0733/ Kota Semarang Letkol Inf Honi Havana. Direktur PT Industri Jamu dan Farmasi Sido Muncul, Tbk. Irwan Hidayat, Direktur Utama Bank Jateng Supriyatno, serta Dirut PT Nisajana Hasna Rizqy Khurotul Jannah juga mendapatkan penghargaan di ajang tersebut.\n",
        "\n",
        "Sementara itu, tiga korporasi yang dianugerahi penghargaan, yakni PT Semen Gresik (Persero), PT Pertamina Patra Niaga Regional Jawa Bagian Tengah, dan ExxonMobil Cepu Limited (EMCL). (Content Promotion/Unissula)\n",
        "\n",
        "(ega/ega)\n",
        "\n",
        "content promotion\"\n",
        "\"\"\""
      ],
      "metadata": {
        "id": "Vnfxao_CC6kg"
      },
      "id": "Vnfxao_CC6kg",
      "execution_count": 21,
      "outputs": []
    },
    {
      "cell_type": "code",
      "source": [
        "extract_keywords_tfidf(teks, tfidf)"
      ],
      "metadata": {
        "id": "H4zBDJSuDgr-",
        "outputId": "82f43ef7-22ca-4270-ca26-c8127517837a",
        "colab": {
          "base_uri": "https://localhost:8080/"
        }
      },
      "id": "H4zBDJSuDgr-",
      "execution_count": 22,
      "outputs": [
        {
          "output_type": "execute_result",
          "data": {
            "text/plain": [
              "['penghargaan',\n",
              " 'pwi',\n",
              " 'gunarto',\n",
              " 'jateng',\n",
              " 'award',\n",
              " 'kota semarang',\n",
              " 'korporasi',\n",
              " 'rektor',\n",
              " 'tegal',\n",
              " 'semarang']"
            ]
          },
          "metadata": {},
          "execution_count": 22
        }
      ]
    }
  ],
  "metadata": {
    "colab": {
      "provenance": [],
      "include_colab_link": true
    },
    "language_info": {
      "name": "python"
    },
    "kernelspec": {
      "name": "python3",
      "display_name": "Python 3"
    },
    "gpuClass": "standard"
  },
  "nbformat": 4,
  "nbformat_minor": 5
}