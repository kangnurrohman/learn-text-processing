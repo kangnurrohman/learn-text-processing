{
 "cells": [
  {
   "cell_type": "markdown",
   "id": "cac4668b",
   "metadata": {
    "colab_type": "text",
    "id": "view-in-github"
   },
   "source": [
    "<a href=\"https://colab.research.google.com/github/kangnurrohman/word-vector/blob/main/src/Part%204%20-%20Sentiment%20Analysis%20with%20FastText.ipynb\" target=\"_parent\"><img src=\"https://colab.research.google.com/assets/colab-badge.svg\" alt=\"Open In Colab\"/></a>"
   ]
  },
  {
   "cell_type": "code",
   "execution_count": 1,
   "id": "Jso81iPNFQkn",
   "metadata": {
    "colab": {
     "base_uri": "https://localhost:8080/"
    },
    "id": "Jso81iPNFQkn",
    "outputId": "b156c059-760e-453f-e255-b80c652ec2eb"
   },
   "outputs": [],
   "source": [
    "# from google.colab import drive\n",
    "# drive.mount('/content/drive')"
   ]
  },
  {
   "cell_type": "code",
   "execution_count": 2,
   "id": "9cQVMi0-FRzf",
   "metadata": {
    "id": "9cQVMi0-FRzf"
   },
   "outputs": [],
   "source": [
    "# import zipfile\n",
    "# zip_ref = zipfile.ZipFile(\"/content/drive/MyDrive/Colab Notebooks/data/data 6.zip\", 'r')\n",
    "# zip_ref.extractall(\"data\")\n",
    "# zip_ref.close()"
   ]
  },
  {
   "cell_type": "code",
   "execution_count": 6,
   "id": "d8AL2AiRFL0x",
   "metadata": {
    "id": "d8AL2AiRFL0x"
   },
   "outputs": [],
   "source": [
    "# pip install jcopml"
   ]
  },
  {
   "cell_type": "code",
   "execution_count": 10,
   "id": "KPZamAXPFT8T",
   "metadata": {
    "id": "KPZamAXPFT8T"
   },
   "outputs": [],
   "source": [
    "import numpy as np\n",
    "import pandas as pd\n",
    "\n",
    "from sklearn.model_selection import train_test_split\n",
    "from sklearn.pipeline import Pipeline\n",
    "from sklearn.compose import ColumnTransformer\n",
    "\n",
    "from jcopml.pipeline import num_pipe, cat_pipe\n",
    "from jcopml.utils import save_model, load_model\n",
    "from jcopml.plot import plot_missing_value\n",
    "from jcopml.feature_importance import mean_score_decrease"
   ]
  },
  {
   "cell_type": "code",
   "execution_count": 11,
   "id": "FSEBR4fuFpcO",
   "metadata": {
    "colab": {
     "base_uri": "https://localhost:8080/"
    },
    "id": "FSEBR4fuFpcO",
    "outputId": "0b82c3ee-ceaa-4ce1-ae5e-330ae89f5705"
   },
   "outputs": [],
   "source": [
    "#import nltk\n",
    "from nltk.tokenize import word_tokenize\n",
    "from nltk.corpus import stopwords\n",
    "from string import punctuation\n",
    "#nltk.download('stopwords')\n",
    "#nltk.download('punkt')"
   ]
  },
  {
   "cell_type": "code",
   "execution_count": 12,
   "id": "9wDYQ3KkFx-N",
   "metadata": {
    "id": "9wDYQ3KkFx-N"
   },
   "outputs": [],
   "source": [
    "sw_indo = stopwords.words(\"indonesian\") + list(punctuation)"
   ]
  },
  {
   "cell_type": "markdown",
   "id": "v1OxaSXrG0pf",
   "metadata": {
    "id": "v1OxaSXrG0pf"
   },
   "source": [
    "## Import Data"
   ]
  },
  {
   "cell_type": "code",
   "execution_count": 13,
   "id": "1qRgkseZG12N",
   "metadata": {
    "colab": {
     "base_uri": "https://localhost:8080/",
     "height": 206
    },
    "id": "1qRgkseZG12N",
    "outputId": "867874a6-743b-4935-8be9-81a492b4f2b2"
   },
   "outputs": [
    {
     "data": {
      "text/html": [
       "<div>\n",
       "<style scoped>\n",
       "    .dataframe tbody tr th:only-of-type {\n",
       "        vertical-align: middle;\n",
       "    }\n",
       "\n",
       "    .dataframe tbody tr th {\n",
       "        vertical-align: top;\n",
       "    }\n",
       "\n",
       "    .dataframe thead th {\n",
       "        text-align: right;\n",
       "    }\n",
       "</style>\n",
       "<table border=\"1\" class=\"dataframe\">\n",
       "  <thead>\n",
       "    <tr style=\"text-align: right;\">\n",
       "      <th></th>\n",
       "      <th>review</th>\n",
       "      <th>rate</th>\n",
       "    </tr>\n",
       "  </thead>\n",
       "  <tbody>\n",
       "    <tr>\n",
       "      <th>0</th>\n",
       "      <td>Apa aplikasi yang bagus untuk dengan mudah per...</td>\n",
       "      <td>positive</td>\n",
       "    </tr>\n",
       "    <tr>\n",
       "      <th>1</th>\n",
       "      <td>Aplikasi ini banyak membantu saya. Sekarang sa...</td>\n",
       "      <td>positive</td>\n",
       "    </tr>\n",
       "    <tr>\n",
       "      <th>2</th>\n",
       "      <td>Mengerikan. Antarmukanya sangat membingungkan....</td>\n",
       "      <td>negative</td>\n",
       "    </tr>\n",
       "    <tr>\n",
       "      <th>3</th>\n",
       "      <td>Aplikasi yang cukup mengesankan. Butuh waktu l...</td>\n",
       "      <td>positive</td>\n",
       "    </tr>\n",
       "    <tr>\n",
       "      <th>4</th>\n",
       "      <td>Aplikasi ini sebenarnya bagus dan sangat memba...</td>\n",
       "      <td>positive</td>\n",
       "    </tr>\n",
       "  </tbody>\n",
       "</table>\n",
       "</div>"
      ],
      "text/plain": [
       "                                              review      rate\n",
       "0  Apa aplikasi yang bagus untuk dengan mudah per...  positive\n",
       "1  Aplikasi ini banyak membantu saya. Sekarang sa...  positive\n",
       "2  Mengerikan. Antarmukanya sangat membingungkan....  negative\n",
       "3  Aplikasi yang cukup mengesankan. Butuh waktu l...  positive\n",
       "4  Aplikasi ini sebenarnya bagus dan sangat memba...  positive"
      ]
     },
     "execution_count": 13,
     "metadata": {},
     "output_type": "execute_result"
    }
   ],
   "source": [
    "df = pd.read_csv(\"../../data/gojek_review_sentiment.csv\")\n",
    "df.head()"
   ]
  },
  {
   "cell_type": "code",
   "execution_count": 14,
   "id": "fqY96wxPHZ1N",
   "metadata": {
    "colab": {
     "base_uri": "https://localhost:8080/"
    },
    "id": "fqY96wxPHZ1N",
    "outputId": "5726304c-87f4-48a9-f041-c51a652d35e8"
   },
   "outputs": [
    {
     "data": {
      "text/plain": [
       "negative    0.595398\n",
       "positive    0.404602\n",
       "Name: rate, dtype: float64"
      ]
     },
     "execution_count": 14,
     "metadata": {},
     "output_type": "execute_result"
    }
   ],
   "source": [
    "df.rate.value_counts(normalize=True)"
   ]
  },
  {
   "cell_type": "markdown",
   "id": "hk71QNqyLndg",
   "metadata": {
    "id": "hk71QNqyLndg"
   },
   "source": [
    "## Encoding"
   ]
  },
  {
   "cell_type": "code",
   "execution_count": 15,
   "id": "qkI-4TMCLo9B",
   "metadata": {
    "id": "qkI-4TMCLo9B"
   },
   "outputs": [],
   "source": [
    "from gensim.models import FastText"
   ]
  },
  {
   "cell_type": "code",
   "execution_count": 16,
   "id": "NNj3_zDBLuXx",
   "metadata": {
    "id": "NNj3_zDBLuXx"
   },
   "outputs": [],
   "source": [
    "w2v = FastText.load(\"../../data/model/fasttext/gojek_review.fasttext\").wv"
   ]
  },
  {
   "cell_type": "code",
   "execution_count": 17,
   "id": "NxCCsrIjNnkJ",
   "metadata": {
    "id": "NxCCsrIjNnkJ"
   },
   "outputs": [],
   "source": [
    "def sent_vector(sentence, w2v_model, stopwords):\n",
    "  vecs = [w2v_model[word.lower()] for word in word_tokenize(sentence) if word not in stopwords]\n",
    "  sent_vec = np.mean(vecs, axis=0)\n",
    "  return sent_vec\n",
    "\n",
    "def norm_sent_vector(sentence, w2v_model, stopwords):\n",
    "  vecs = [w2v_model[word.lower()] for word in word_tokenize(sentence) if word not in stopwords]\n",
    "  norm_vecs = [vec / np.linalg.norm(vec) for vec in vecs if np.linalg.norm(vec) > 0]\n",
    "  sent_vec = np.mean(norm_vecs, axis=0)\n",
    "  return sent_vec"
   ]
  },
  {
   "cell_type": "code",
   "execution_count": 18,
   "id": "yA6kZZ9weNjk",
   "metadata": {
    "colab": {
     "base_uri": "https://localhost:8080/",
     "height": 346
    },
    "id": "yA6kZZ9weNjk",
    "outputId": "d3f876ba-eff8-40b1-c950-578038f0c2ce"
   },
   "outputs": [
    {
     "data": {
      "text/plain": [
       "array([[-1.3797743e-02, -3.7794587e-01, -4.5372140e-01, ...,\n",
       "         4.8197597e-02,  4.9815816e-01, -3.0808460e-02],\n",
       "       [ 5.7671353e-02, -2.3767716e-01, -2.3528852e-01, ...,\n",
       "         2.1159397e-01,  7.4173772e-01, -8.3569892e-02],\n",
       "       [-1.4525014e-01,  5.2495480e-02, -2.0636749e-01, ...,\n",
       "        -1.0901792e-01,  3.3448571e-01, -1.5521082e-01],\n",
       "       ...,\n",
       "       [ 6.6199794e-02, -3.1072897e-01,  1.3862197e-01, ...,\n",
       "        -6.7783415e-02,  5.6665707e-01, -3.2514340e-01],\n",
       "       [-3.3561934e-02, -6.1295398e-02, -5.0850421e-01, ...,\n",
       "         1.3629022e-01,  8.8104075e-01, -1.6323066e-01],\n",
       "       [-4.4231117e-04, -7.4599206e-02, -1.0312299e-01, ...,\n",
       "         3.7486777e-03,  1.9106190e-01,  8.2643338e-02]], dtype=float32)"
      ]
     },
     "execution_count": 18,
     "metadata": {},
     "output_type": "execute_result"
    }
   ],
   "source": [
    "vecs = [sent_vector(sentence, w2v, sw_indo) for sentence in df.review]\n",
    "vecs = np.array(vecs)\n",
    "vecs"
   ]
  },
  {
   "cell_type": "code",
   "execution_count": 19,
   "id": "17914966",
   "metadata": {},
   "outputs": [
    {
     "data": {
      "text/plain": [
       "(1782, 128)"
      ]
     },
     "execution_count": 19,
     "metadata": {},
     "output_type": "execute_result"
    }
   ],
   "source": [
    "vecs.shape"
   ]
  },
  {
   "cell_type": "markdown",
   "id": "pLkWfNiDH-q6",
   "metadata": {
    "id": "pLkWfNiDH-q6"
   },
   "source": [
    "## Data Splitting"
   ]
  },
  {
   "cell_type": "code",
   "execution_count": 20,
   "id": "UGpuL6ICH46c",
   "metadata": {
    "id": "UGpuL6ICH46c"
   },
   "outputs": [
    {
     "data": {
      "text/plain": [
       "((1425, 128), (357, 128), (1425,), (357,))"
      ]
     },
     "execution_count": 20,
     "metadata": {},
     "output_type": "execute_result"
    }
   ],
   "source": [
    "X = vecs\n",
    "y = df.rate\n",
    "\n",
    "X_train, X_test, y_train, y_test = train_test_split(X, y, test_size=0.2, stratify=y, random_state=42)\n",
    "X_train.shape, X_test.shape, y_train.shape, y_test.shape"
   ]
  },
  {
   "cell_type": "markdown",
   "id": "8l3o6UWDICCR",
   "metadata": {
    "id": "8l3o6UWDICCR"
   },
   "source": [
    "## Training"
   ]
  },
  {
   "cell_type": "code",
   "execution_count": 21,
   "id": "osKbSM4MIDBR",
   "metadata": {
    "id": "osKbSM4MIDBR"
   },
   "outputs": [],
   "source": [
    "from sklearn.svm import SVC\n",
    "from sklearn.model_selection import RandomizedSearchCV\n",
    "from jcopml.tuning import random_search_params as rsp"
   ]
  },
  {
   "cell_type": "code",
   "execution_count": 22,
   "id": "lP3ApxY7Ia7d",
   "metadata": {
    "id": "lP3ApxY7Ia7d"
   },
   "outputs": [
    {
     "name": "stdout",
     "output_type": "stream",
     "text": [
      "Fitting 4 folds for each of 50 candidates, totalling 200 fits\n"
     ]
    },
    {
     "name": "stderr",
     "output_type": "stream",
     "text": [
      "C:\\ProgramData\\Anaconda3\\lib\\site-packages\\sklearn\\svm\\_base.py:255: ConvergenceWarning: Solver terminated early (max_iter=500).  Consider pre-processing your data with StandardScaler or MinMaxScaler.\n",
      "  warnings.warn('Solver terminated early (max_iter=%i).'\n"
     ]
    },
    {
     "name": "stdout",
     "output_type": "stream",
     "text": [
      "{'algo__C': 4.418441521199726, 'algo__gamma': 0.010547383621352041}\n",
      "0.8989473684210526 0.8694646397884996 0.9019607843137255\n"
     ]
    }
   ],
   "source": [
    "pipeline = Pipeline([\n",
    "    ('algo', SVC(max_iter=500))\n",
    "])\n",
    "\n",
    "model = RandomizedSearchCV(pipeline, rsp.svm_params, cv=4,  n_iter=50, n_jobs=-1, verbose=1, random_state=42)\n",
    "model.fit(X_train, y_train)\n",
    "\n",
    "print(model.best_params_)\n",
    "print(model.score(X_train, y_train), model.best_score_, model.score(X_test, y_test))"
   ]
  },
  {
   "cell_type": "markdown",
   "id": "B309BfAeJdR6",
   "metadata": {
    "id": "B309BfAeJdR6"
   },
   "source": [
    "## Evaluation"
   ]
  },
  {
   "cell_type": "code",
   "execution_count": 23,
   "id": "yHBb3lQyJefb",
   "metadata": {
    "id": "yHBb3lQyJefb"
   },
   "outputs": [],
   "source": [
    "from jcopml.plot import plot_confusion_matrix"
   ]
  },
  {
   "cell_type": "code",
   "execution_count": 24,
   "id": "BWtyC8WrKS7Z",
   "metadata": {
    "id": "BWtyC8WrKS7Z"
   },
   "outputs": [
    {
     "data": {
      "image/png": "[encoded data removed]",
      "text/plain": [
       "<Figure size 792x360 with 2 Axes>"
      ]
     },
     "metadata": {
      "needs_background": "light"
     },
     "output_type": "display_data"
    }
   ],
   "source": [
    "plot_confusion_matrix(X_train, y_train, X_test, y_test, model)"
   ]
  }
 ],
 "metadata": {
  "colab": {
   "include_colab_link": true,
   "provenance": []
  },
  "gpuClass": "standard",
  "kernelspec": {
   "display_name": "Python 3 (ipykernel)",
   "language": "python",
   "name": "python3"
  },
  "language_info": {
   "codemirror_mode": {
    "name": "ipython",
    "version": 3
   },
   "file_extension": ".py",
   "mimetype": "text/x-python",
   "name": "python",
   "nbconvert_exporter": "python",
   "pygments_lexer": "ipython3",
   "version": "3.9.7"
  }
 },
 "nbformat": 4,
 "nbformat_minor": 5
}
