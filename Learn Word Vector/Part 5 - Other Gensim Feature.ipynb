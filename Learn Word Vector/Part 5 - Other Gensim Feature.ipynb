{
  "cells": [
    {
      "cell_type": "markdown",
      "metadata": {
        "id": "view-in-github",
        "colab_type": "text"
      },
      "source": [
        "<a href=\"https://colab.research.google.com/github/kangnurrohman/word-vector/blob/main/src/Part%205%20-%20Other%20Gensim%20Feature.ipynb\" target=\"_parent\"><img src=\"https://colab.research.google.com/assets/colab-badge.svg\" alt=\"Open In Colab\"/></a>"
      ]
    },
    {
      "cell_type": "code",
      "execution_count": 1,
      "id": "63943739",
      "metadata": {
        "id": "63943739",
        "outputId": "fa744c90-063d-440b-d525-ce67dc4e692b",
        "colab": {
          "base_uri": "https://localhost:8080/"
        }
      },
      "outputs": [
        {
          "output_type": "stream",
          "name": "stdout",
          "text": [
            "Mounted at /content/drive\n"
          ]
        }
      ],
      "source": [
        "from google.colab import drive\n",
        "drive.mount('/content/drive')"
      ]
    },
    {
      "cell_type": "code",
      "source": [
        "import zipfile\n",
        "zip_ref = zipfile.ZipFile(\"/content/drive/MyDrive/Colab Notebooks/data/data 6.zip\", 'r')\n",
        "zip_ref.extractall(\"data\")\n",
        "zip_ref.close()"
      ],
      "metadata": {
        "id": "fSzwD4jCiF8U"
      },
      "id": "fSzwD4jCiF8U",
      "execution_count": 2,
      "outputs": []
    },
    {
      "cell_type": "code",
      "source": [
        "from pprint import pprint\n",
        "from gensim.summarization import summarize, keywords"
      ],
      "metadata": {
        "id": "inIS5fdYiNhe"
      },
      "id": "inIS5fdYiNhe",
      "execution_count": 3,
      "outputs": []
    },
    {
      "cell_type": "code",
      "source": [
        "with open(\"data/kompas.txt\", \"r\") as f:\n",
        "    lines = [line.strip(\"\\n\").lower() for line in f if line != \"\\n\"]\n",
        "    lines = \" \".join(lines)\n",
        "lines"
      ],
      "metadata": {
        "id": "WtnWcVQAiXyT",
        "outputId": "31e4fbb3-63f2-4a2b-d216-0879d5e18e9f",
        "colab": {
          "base_uri": "https://localhost:8080/",
          "height": 139
        }
      },
      "id": "WtnWcVQAiXyT",
      "execution_count": 4,
      "outputs": [
        {
          "output_type": "execute_result",
          "data": {
            "text/plain": [
              "'api dan bom sambut awal milenium baru lima orang tewas dan sekitar 130 cedera, 20 di antaranya mengalami luka bakar serius, ketika kafe het hemeltje (surga kecil) di volendam, kota di utara belanda, yang dipadati remaja yang tengah merayakan tahun baru terbakar. api bermula setengah jam setelah awal milenium baru, senin (1/1) pukul 00.30, dengan cepat melalap kafe di kota wisata tersebut. peristiwa tragis di volendam hanyalah satu dari sekian rangkaian peristiwa tragis, di tengah-tengah kemeriahan masyarakat dunia merayakan hari pertama milenium baru, milenium ketiga pada 1 januari 2001 dini hari. ledakan bom mengguncang dua gereja di bekas negara uni soviet, tajikistan pada malam menjelang tahun baru, minggu. kedua bom meledak berselang hanya setengah jam di ibu kota tajikistan, dushanbe. satu bom di gereja ortodoks, dan satu lagi di gereja adven hari ketujuh, tak menimbulkan korban. ini merupakan insiden serupa kedua dalam tiga bulan di negara asia tengah berpenduduk mayoritas muslim ini, menurut polisi setempat. peristiwa tiga bulan lalu, ketika sebuah bom meledak di gereja misi kristen korea di luar dushambe, oktober 2000, menewaskan setidaknya tujuh orang yang tengah mengikuti ibadat. ledakan bom, senin dini hari, juga merontokkan tembok-tembok yang mengelilingi gereja katolik di aden, yaman. namun, tak ada yang cedera. hanya ada lima gereja di yaman, seluruhnya di aden. loncat dari jendela korban pada malam tahun baru di kafe het hemeltje di volendam senin dini hari, kata wali kota volendam frank ijsselmuiden, umumnya akibat mereka berupaya menyelamatkan diri dengan memecah kaca jendela dan meloncat dari lantai tiga, untuk menghindari api yang tiba-tiba melalap kafe het hemeltje. \"sampai saat ini, lima orang tewas, satu di antaranya mati di rumah sakit. kami perkirakan, sekitar 130 orang lainnya cedera,\" ungkap frank ijsselmuiden. untuk melakukan bantuan pertolongan kecelakaan tersebut, menurut ijsselmuiden, diperlukan 100 ambulan. sekitar 53 yang cedera diangkut ke amsterdam, di rumah sakit amc. separuh di antaranya cedera bakar serius. \"dalam kepanikan, banyak di antara mereka meloncat dari jendela (lantai tiga),\" kata jubir polisi volendam, wietse peter. ia tambahkan, beberapa korban bakar dirawat oleh penduduk di sekitar kafe. sebagian dibaringkan di bak mandi. menurut polisi, kemungkinan api yang melanda kafe itu berawal dari hiasan lampu natal. banyaknya pengunjung malam itu dikarenakan volendam memang merupakan resor wisata terkenal di belanda, yang terletak di ijselmeer, sebuah danau daratan yang terhubung dengan laut utara. kembang api sebuah bom juga meledak di pusat kota istanbul, turki, senin dini hari, menyebabkan ribuan orang yang tengah merayakan malam tahun baru terpaksa mengungsikan diri. hanya sepuluh yang cedera. tidak ada sebuah pihak pun yang mengklaim insiden bom ini. namun, polisi istanbul memperkirakan, perbuatan ini dilakukan kaum militan kiri, yang diduga merencanakan aksi serangan malam tahun baru untuk membalas dendam atas pembunuhan rekan-rekan mereka yang mati dalam serangan kerusuhan dalam penjara turki belum lama ini. namun, secara keseluruhan, kemeriahan kembang api mewarnai awal milenium baru, tahun 2001, di berbagai tempat belahan dunia. filipina, sabtu, diguncang lima bom di ibu kota manila, yang menyebabkan 14 tewas serta 100 cedera dalam kurun waktu dua jam, juga dalam ingar-bingar pesta kembang api. sekitar 400 orang cedera akibat kena kembang api dan mercon di manila senin dini hari itu. meski baru diguncang bom, dan di belahan lain di filipina selatan dilanda berbagai peristiwa teror, mereka tetap menyambut meriah awal milenium baru kali ini. di beijing, cina, insiden berdarah terjadi senin dini hari. sekitar 300 anggota gerakan spiritual terlarang di cina, falun gong, ditangkapi dengan cara keras ketika mereka melakukan aksi demonstrasi. ribuan polisi, menurut afp, menendangi serta memukuli ratusan demonstran falun gong yang dinyatakan terlarang sejak tahun 1999. meski dilarang, pemerintah komunis cina belum juga berhasil memberantas anggota-anggota falun gong, yang hampir selalu menggunakan hari-hari libur besar untuk kesempatan demonstrasi atas pelarangan, serta penangkapan terhadap anggota-anggota mereka. di paris, perancis, menara terkenal eiffel berwarna biru. di new york, lapangan terkenal times square, diselimuti salju. sementara berbagai negara afrika dilanda perang, pembunuhan di awal tahun baru di timur tengah, serta kemeriahan dan insiden di asia. tidak ada gencatan senjata di timur tengah menjelang tahun baru minggu. bahkan, hari itu, seorang ekstremis yahudi dan istrinya ditembak mati orang palestina di tepi barat. binyamin zeev dan istrinya, talia, mati ditembak di mobilnya, lima anaknya cedera. hanya beberapa jam sebelumnya, seorang pejabat tinggi di sayap militer yasser arafat, fatah, tewas terbunuh oleh tentara israel. tsabit tsabit, sekjen faksi fatah di tulkarem, ditemukan tewas di depan rumahnya. dua polisi palestina juga dilaporkan tewas ditembak tentara israel pada awal tahun baru.'"
            ],
            "application/vnd.google.colaboratory.intrinsic+json": {
              "type": "string"
            }
          },
          "metadata": {},
          "execution_count": 4
        }
      ]
    },
    {
      "cell_type": "code",
      "source": [
        "summarize(lines, split=True)"
      ],
      "metadata": {
        "id": "O6nkUzn_itut",
        "outputId": "27573a89-8fa1-40a9-be8a-f436e85ab2f6",
        "colab": {
          "base_uri": "https://localhost:8080/"
        }
      },
      "id": "O6nkUzn_itut",
      "execution_count": 5,
      "outputs": [
        {
          "output_type": "execute_result",
          "data": {
            "text/plain": [
              "['api dan bom sambut awal milenium baru lima orang tewas dan sekitar 130 cedera, 20 di antaranya mengalami luka bakar serius, ketika kafe het hemeltje (surga kecil) di volendam, kota di utara belanda, yang dipadati remaja yang tengah merayakan tahun baru terbakar.',\n",
              " 'api bermula setengah jam setelah awal milenium baru, senin (1/1) pukul 00.30, dengan cepat melalap kafe di kota wisata tersebut.',\n",
              " 'loncat dari jendela korban pada malam tahun baru di kafe het hemeltje di volendam senin dini hari, kata wali kota volendam frank ijsselmuiden, umumnya akibat mereka berupaya menyelamatkan diri dengan memecah kaca jendela dan meloncat dari lantai tiga, untuk menghindari api yang tiba-tiba melalap kafe het hemeltje.',\n",
              " 'kembang api sebuah bom juga meledak di pusat kota istanbul, turki, senin dini hari, menyebabkan ribuan orang yang tengah merayakan malam tahun baru terpaksa mengungsikan diri.',\n",
              " 'filipina, sabtu, diguncang lima bom di ibu kota manila, yang menyebabkan 14 tewas serta 100 cedera dalam kurun waktu dua jam, juga dalam ingar-bingar pesta kembang api.',\n",
              " 'sekitar 400 orang cedera akibat kena kembang api dan mercon di manila senin dini hari itu.',\n",
              " 'sementara berbagai negara afrika dilanda perang, pembunuhan di awal tahun baru di timur tengah, serta kemeriahan dan insiden di asia.',\n",
              " 'dua polisi palestina juga dilaporkan tewas ditembak tentara israel pada awal tahun baru.']"
            ]
          },
          "metadata": {},
          "execution_count": 5
        }
      ]
    },
    {
      "cell_type": "code",
      "source": [
        "keywords(lines, ratio=0.1, split=True)"
      ],
      "metadata": {
        "id": "My0iSeJWiywf",
        "outputId": "cf409c91-6d66-4d19-a4a1-0caeb25e6d7f",
        "colab": {
          "base_uri": "https://localhost:8080/"
        }
      },
      "id": "My0iSeJWiywf",
      "execution_count": 6,
      "outputs": [
        {
          "output_type": "execute_result",
          "data": {
            "text/plain": [
              "['yang',\n",
              " 'cedera',\n",
              " 'hari',\n",
              " 'ini',\n",
              " 'api dan bom',\n",
              " 'dalam',\n",
              " 'mereka',\n",
              " 'polisi',\n",
              " 'baru lima orang tewas',\n",
              " 'juga',\n",
              " 'sekitar',\n",
              " 'dengan',\n",
              " 'tengah',\n",
              " 'volendam kota',\n",
              " 'untuk',\n",
              " 'serta',\n",
              " 'peristiwa',\n",
              " 'gereja',\n",
              " 'satu dari',\n",
              " 'senin',\n",
              " 'terkenal',\n",
              " 'kafe',\n",
              " 'sebuah',\n",
              " 'awal',\n",
              " 'insiden',\n",
              " 'hanya',\n",
              " 'ada']"
            ]
          },
          "metadata": {},
          "execution_count": 6
        }
      ]
    },
    {
      "cell_type": "markdown",
      "source": [
        "## Other Feature"
      ],
      "metadata": {
        "id": "eIyXZE0Hi2p-"
      },
      "id": "eIyXZE0Hi2p-"
    },
    {
      "cell_type": "code",
      "source": [
        "from gensim.models import Doc2Vec"
      ],
      "metadata": {
        "id": "NPDF0kJUi1Ea"
      },
      "id": "NPDF0kJUi1Ea",
      "execution_count": 7,
      "outputs": []
    }
  ],
  "metadata": {
    "kernelspec": {
      "display_name": "Python 3 (ipykernel)",
      "language": "python",
      "name": "python3"
    },
    "language_info": {
      "codemirror_mode": {
        "name": "ipython",
        "version": 3
      },
      "file_extension": ".py",
      "mimetype": "text/x-python",
      "name": "python",
      "nbconvert_exporter": "python",
      "pygments_lexer": "ipython3",
      "version": "3.9.7"
    },
    "colab": {
      "provenance": [],
      "include_colab_link": true
    }
  },
  "nbformat": 4,
  "nbformat_minor": 5
}